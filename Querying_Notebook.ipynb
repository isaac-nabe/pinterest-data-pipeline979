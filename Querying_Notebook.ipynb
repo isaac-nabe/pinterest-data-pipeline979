{
 "cells": [
  {
   "cell_type": "markdown",
   "metadata": {
    "application/vnd.databricks.v1+cell": {
     "cellMetadata": {},
     "inputWidgets": {},
     "nuid": "101f099e-5454-4e9e-b6af-1f8750bf1bc9",
     "showTitle": false,
     "title": ""
    }
   },
   "source": [
    "# Access The Cleaned DataFrames"
   ]
  },
  {
   "cell_type": "code",
   "execution_count": null,
   "metadata": {
    "application/vnd.databricks.v1+cell": {
     "cellMetadata": {
      "byteLimit": 2048000,
      "rowLimit": 10000
     },
     "inputWidgets": {},
     "nuid": "e4bd892a-306b-4bd8-b410-9e72d77f5211",
     "showTitle": false,
     "title": ""
    }
   },
   "outputs": [],
   "source": [
    "# Access the global temporary views\n",
    "df_pin_cleaned = spark.read.table(\"global_temp.global_cleaned_pin\")\n",
    "df_geo_cleaned = spark.read.table(\"global_temp.global_cleaned_geo\")\n",
    "df_user_cleaned = spark.read.table(\"global_temp.global_cleaned_user\")"
   ]
  },
  {
   "cell_type": "code",
   "execution_count": null,
   "metadata": {
    "application/vnd.databricks.v1+cell": {
     "cellMetadata": {
      "byteLimit": 2048000,
      "rowLimit": 10000
     },
     "collapsed": true,
     "inputWidgets": {},
     "nuid": "1f27c59a-2534-4f64-83de-56955ceca4b9",
     "showTitle": false,
     "title": ""
    }
   },
   "outputs": [],
   "source": [
    "# Display Cleaned Pinterest Data\n",
    "display(df_pin_cleaned)"
   ]
  },
  {
   "cell_type": "code",
   "execution_count": null,
   "metadata": {
    "application/vnd.databricks.v1+cell": {
     "cellMetadata": {
      "byteLimit": 2048000,
      "rowLimit": 10000
     },
     "collapsed": true,
     "inputWidgets": {},
     "nuid": "d1a2f1a1-0c09-4d5d-a848-abc4c7aa8d75",
     "showTitle": false,
     "title": ""
    }
   },
   "outputs": [],
   "source": [
    "# Display Cleaned Geo Data\n",
    "display(df_geo_cleaned)"
   ]
  },
  {
   "cell_type": "code",
   "execution_count": null,
   "metadata": {
    "application/vnd.databricks.v1+cell": {
     "cellMetadata": {
      "byteLimit": 2048000,
      "rowLimit": 10000
     },
     "collapsed": true,
     "inputWidgets": {},
     "nuid": "d3f07f79-a893-48bd-a2c8-524b839245b2",
     "showTitle": false,
     "title": ""
    }
   },
   "outputs": [],
   "source": [
    "# Display Cleaned User Data\n",
    "display(df_user_cleaned)"
   ]
  },
  {
   "cell_type": "markdown",
   "metadata": {
    "application/vnd.databricks.v1+cell": {
     "cellMetadata": {},
     "inputWidgets": {},
     "nuid": "ec9c06b6-52c1-4d1d-b639-23898313fee2",
     "showTitle": false,
     "title": ""
    }
   },
   "source": [
    "# Query The DataFrames\n",
    "\n",
    "## **Make sure to optimise and refactor the code in this notebook to avoid uneccessary repetition: DRY CODING**"
   ]
  },
  {
   "cell_type": "code",
   "execution_count": null,
   "metadata": {
    "application/vnd.databricks.v1+cell": {
     "cellMetadata": {
      "byteLimit": 2048000,
      "rowLimit": 10000
     },
     "inputWidgets": {},
     "nuid": "a4dfb89d-738a-4acd-8eb9-190b814d41e3",
     "showTitle": false,
     "title": ""
    }
   },
   "outputs": [],
   "source": [
    "# Import the necessary classes and functions from the PySpark SQL module\n",
    "from pyspark.sql import Window\n",
    "from pyspark.sql.functions import count, col, row_number, year, max, when, expr, percentile_approx"
   ]
  },
  {
   "cell_type": "code",
   "execution_count": null,
   "metadata": {
    "application/vnd.databricks.v1+cell": {
     "cellMetadata": {
      "byteLimit": 2048000,
      "rowLimit": 10000
     },
     "inputWidgets": {},
     "nuid": "03b83e03-da01-428b-aef2-674f7aceac09",
     "showTitle": false,
     "title": ""
    }
   },
   "outputs": [],
   "source": [
    "# M7: Task 4\n",
    "# Find the most popular Pinterest category in each country\n",
    "\n",
    "# Join df_pin_cleaned with df_geo_cleaned on the 'ind' column\n",
    "df_combined = df_pin_cleaned.join(df_geo_cleaned, on=\"ind\", how=\"inner\")\n",
    "\n",
    "# Group by 'country' and 'category' and count the number of posts in each category per country\n",
    "df_category_count = df_combined.groupBy(\"country\", \"category\") \\\n",
    "                               .agg(count(\"category\").alias(\"category_count\"))\n",
    "\n",
    "# Define a window specification to rank categories by count within each country\n",
    "window_spec = Window.partitionBy(\"country\").orderBy(col(\"category_count\").desc())\n",
    "\n",
    "# Apply the window function to add a rank column\n",
    "df_ranked = df_category_count.withColumn(\"rank\", row_number().over(window_spec))\n",
    "\n",
    "# Filter to keep only the most popular category per country (rank == 1)\n",
    "df_most_popular = df_ranked.filter(col(\"rank\") == 1).drop(\"rank\")\n",
    "\n",
    "# Display the final result\n",
    "display(df_most_popular)"
   ]
  },
  {
   "cell_type": "code",
   "execution_count": null,
   "metadata": {
    "application/vnd.databricks.v1+cell": {
     "cellMetadata": {
      "byteLimit": 2048000,
      "rowLimit": 10000
     },
     "inputWidgets": {},
     "nuid": "36c7c415-e35f-4945-b277-5324d57b0fbd",
     "showTitle": false,
     "title": ""
    }
   },
   "outputs": [],
   "source": [
    "# M7: Task 5\n",
    "# Find the most popular category in each year (between 2018 - 2022)\n",
    "\n",
    "# Join df_pin_cleaned with df_geo_cleaned on the 'ind' column\n",
    "df_combined = df_pin_cleaned.join(df_geo_cleaned, on=\"ind\", how=\"inner\")\n",
    "\n",
    "# Extract the year from the timestamp to create 'post_year' column\n",
    "df_pin_with_year = df_combined.withColumn(\"post_year\", year(col(\"timestamp\")))\n",
    "\n",
    "# Filter the data to include only posts between 2018 and 2022\n",
    "df_filtered = df_pin_with_year.filter(col(\"post_year\").between(2018, 2022))\n",
    "\n",
    "# Group by 'post_year' and 'category' and count the number of posts in each category per year\n",
    "df_category_count = df_filtered.groupBy(\"post_year\", \"category\") \\\n",
    "                               .agg(count(\"category\").alias(\"category_count\"))\n",
    "\n",
    "# Define a window specification to rank categories by count within each year\n",
    "window_spec = Window.partitionBy(\"post_year\").orderBy(col(\"category_count\").desc())\n",
    "\n",
    "# Apply the window function to add a rank column\n",
    "df_ranked = df_category_count.withColumn(\"rank\", row_number().over(window_spec))\n",
    "\n",
    "# Filter to keep only the most popular category per year (rank == 1)\n",
    "df_most_popular = df_ranked.filter(col(\"rank\") == 1).drop(\"rank\")\n",
    "\n",
    "# Display the final result\n",
    "display(df_most_popular)"
   ]
  },
  {
   "cell_type": "code",
   "execution_count": null,
   "metadata": {
    "application/vnd.databricks.v1+cell": {
     "cellMetadata": {
      "byteLimit": 2048000,
      "rowLimit": 10000
     },
     "inputWidgets": {},
     "nuid": "958a6dbb-2dc5-4d67-b57f-887ce0dcf0a4",
     "showTitle": false,
     "title": ""
    }
   },
   "outputs": [],
   "source": [
    "# M7: Task 6\n",
    "# Find the user with the most followers in each country.\n",
    "\n",
    "# Join df_pin_cleaned, df_geo_cleaned, and df_user_cleaned on the 'ind' column\n",
    "df_combined = df_pin_cleaned.join(df_geo_cleaned, on=\"ind\", how=\"inner\") \\\n",
    "                            .join(df_user_cleaned, on=\"ind\", how=\"inner\")\n",
    "\n",
    "# Group by 'country' and 'user_name' and find the maximum follower count\n",
    "df_max_followers = df_combined.groupBy(\"country\", \"user_name\") \\\n",
    "                              .agg(max(\"follower_count\"))\n",
    "\n",
    "# Define a window specification to rank users by follower count within each country\n",
    "window_spec = Window.partitionBy(\"country\").orderBy(col(\"max(follower_count)\").desc())\n",
    "\n",
    "# Apply the window function to add a rank column\n",
    "df_ranked = df_max_followers.withColumn(\"rank\", row_number().over(window_spec))\n",
    "\n",
    "# Filter to keep only the user with the most followers per country (rank == 1)\n",
    "df_top_users = df_ranked.filter(col(\"rank\") == 1).select(\"country\", \"user_name\", \"max(follower_count)\")\n",
    "\n",
    "# Display the result for Step 1\n",
    "display(df_top_users)\n",
    "\n",
    "# Define a window specification to rank countries by the top user's follower count\n",
    "window_spec_country = Window.orderBy(col(\"max(follower_count)\").desc())\n",
    "\n",
    "# Apply the window function to rank countries and filter for the top-ranked country\n",
    "df_top_country = df_top_users.withColumn(\"rank\", row_number().over(window_spec_country)) \\\n",
    "                             .filter(col(\"rank\") == 1) \\\n",
    "                             .select(\"country\", \"max(follower_count)\")\n",
    "\n",
    "# Display the result for Step 2\n",
    "display(df_top_country)\n"
   ]
  },
  {
   "cell_type": "code",
   "execution_count": null,
   "metadata": {
    "application/vnd.databricks.v1+cell": {
     "cellMetadata": {
      "byteLimit": 2048000,
      "rowLimit": 10000
     },
     "inputWidgets": {},
     "nuid": "3696d890-7c90-4fde-86d6-5fe282a3d751",
     "showTitle": false,
     "title": ""
    }
   },
   "outputs": [],
   "source": [
    "# M7: Task 7\n",
    "# Find the most popular category for different age groups\n",
    "\n",
    "# Create an 'age_group' column based on the 'age' column\n",
    "df_with_age_group = df_combined.withColumn(\n",
    "    \"age_group\",\n",
    "    when(col(\"age\").between(18, 24), \"18-24\")\n",
    "    .when(col(\"age\").between(25, 35), \"25-35\")\n",
    "    .when(col(\"age\").between(36, 50), \"36-50\")\n",
    "    .when(col(\"age\") > 50, \"50+\")\n",
    ")\n",
    "\n",
    "# Group by 'age_group' and 'category' and count the number of posts in each category per age group\n",
    "df_category_count = df_with_age_group.groupBy(\"age_group\", \"category\") \\\n",
    "                                     .agg(count(\"category\").alias(\"category_count\"))\n",
    "\n",
    "# Define a window specification to rank categories by count within each age group\n",
    "window_spec = Window.partitionBy(\"age_group\").orderBy(col(\"category_count\").desc())\n",
    "\n",
    "# Apply the window function to add a rank column\n",
    "df_ranked = df_category_count.withColumn(\"rank\", row_number().over(window_spec))\n",
    "\n",
    "# Filter to keep only the most popular category per age group (rank == 1)\n",
    "df_most_popular = df_ranked.filter(col(\"rank\") == 1).drop(\"rank\")\n",
    "\n",
    "# Display the final result\n",
    "display(df_most_popular)"
   ]
  },
  {
   "cell_type": "code",
   "execution_count": null,
   "metadata": {
    "application/vnd.databricks.v1+cell": {
     "cellMetadata": {
      "byteLimit": 2048000,
      "rowLimit": 10000
     },
     "inputWidgets": {},
     "nuid": "f07b10f0-3a69-4d29-885a-2565c1c9bf7b",
     "showTitle": false,
     "title": ""
    }
   },
   "outputs": [],
   "source": [
    "# M7: Task 8\n",
    "# Find the median follower count for different age groups\n",
    "\n",
    "# Group by 'age_group' and calculate the median follower count\n",
    "df_median_follower = df_with_age_group.groupBy(\"age_group\") \\\n",
    "    .agg(percentile_approx(\"follower_count\", 0.5).alias(\"median_follower_count\"))\n",
    "\n",
    "# Display the final result\n",
    "display(df_median_follower)"
   ]
  },
  {
   "cell_type": "code",
   "execution_count": null,
   "metadata": {
    "application/vnd.databricks.v1+cell": {
     "cellMetadata": {
      "byteLimit": 2048000,
      "rowLimit": 10000
     },
     "inputWidgets": {},
     "nuid": "92400480-9047-41ab-8910-995b8d45d311",
     "showTitle": false,
     "title": ""
    }
   },
   "outputs": [],
   "source": [
    "# M7: Task 9\n",
    "# Find how many users have joined between 2015-2020\n",
    "\n",
    "# Extract the year from the 'date_joined' column to create 'post_year' column\n",
    "df_with_year = df_user_cleaned.withColumn(\"post_year\", year(col(\"date_joined\")))\n",
    "\n",
    "# Filter the data to include only entries between 2015 and 2020\n",
    "df_filtered = df_with_year.filter(col(\"post_year\").between(2015, 2020))\n",
    "\n",
    "# Group by 'post_year' and count the number of users joined each year\n",
    "df_users_joined = df_filtered.groupBy(\"post_year\") \\\n",
    "                             .agg(count(\"ind\").alias(\"number_users_joined\"))\n",
    "\n",
    "# Display the final result\n",
    "display(df_users_joined)"
   ]
  },
  {
   "cell_type": "code",
   "execution_count": null,
   "metadata": {
    "application/vnd.databricks.v1+cell": {
     "cellMetadata": {
      "byteLimit": 2048000,
      "rowLimit": 10000
     },
     "inputWidgets": {},
     "nuid": "8dbb3c08-9ed2-4480-9497-302d11931f4e",
     "showTitle": false,
     "title": ""
    }
   },
   "outputs": [],
   "source": [
    "# M7: Task 10\n",
    "# Find the media follower count of users that have joined between 2015-2020\n",
    "\n",
    "# Join df_pin_cleaned and df_user_cleaned on the 'ind' column\n",
    "df_combined = df_pin_cleaned.join(df_user_cleaned, on=\"ind\", how=\"inner\")\n",
    "\n",
    "# Extract the year from the 'date_joined' column to create 'post_year' column\n",
    "df_with_year = df_combined.withColumn(\"post_year\", year(col(\"date_joined\")))\n",
    "\n",
    "# Filter the data to include only entries between 2015 and 2020\n",
    "df_filtered = df_with_year.filter(col(\"post_year\").between(2015, 2020))\n",
    "\n",
    "# Group by 'post_year' and calculate the median follower count\n",
    "df_median_follower = df_filtered.groupBy(\"post_year\") \\\n",
    "    .agg(percentile_approx(\"follower_count\", 0.5).alias(\"median_follower_count\"))\n",
    "\n",
    "# Display the final result\n",
    "display(df_median_follower)"
   ]
  },
  {
   "cell_type": "code",
   "execution_count": null,
   "metadata": {
    "application/vnd.databricks.v1+cell": {
     "cellMetadata": {
      "byteLimit": 2048000,
      "rowLimit": 10000
     },
     "inputWidgets": {},
     "nuid": "3c677f05-8416-4c1e-ab7d-4e022cadba3d",
     "showTitle": false,
     "title": ""
    }
   },
   "outputs": [],
   "source": [
    "# M7: Task 11\n",
    "# Find the median follower count of users that have joined between 2015 and 2020, based on age group.\n",
    "\n",
    "# Extract the year from the 'date_joined' column to create 'post_year' column\n",
    "df_with_year = df_combined.withColumn(\"post_year\", year(col(\"date_joined\")))\n",
    "\n",
    "# Create an 'age_group' column based on the 'age' column\n",
    "df_with_age_group = df_with_year.withColumn(\n",
    "    \"age_group\",\n",
    "    when(col(\"age\").between(18, 24), \"18-24\")\n",
    "    .when(col(\"age\").between(25, 35), \"25-35\")\n",
    "    .when(col(\"age\").between(36, 50), \"36-50\")\n",
    "    .when(col(\"age\") > 50, \"50+\")\n",
    ")\n",
    "\n",
    "# Filter the data to include only entries between 2015 and 2020\n",
    "df_filtered = df_with_age_group.filter(col(\"post_year\").between(2015, 2020))\n",
    "\n",
    "# Group by 'age_group' and 'post_year' and calculate the median follower count\n",
    "df_median_follower = df_filtered.groupBy(\"age_group\", \"post_year\") \\\n",
    "    .agg(percentile_approx(\"follower_count\", 0.5).alias(\"median_follower_count\"))\n",
    "\n",
    "# Display the final result\n",
    "display(df_median_follower)"
   ]
  }
 ],
 "metadata": {
  "application/vnd.databricks.v1+notebook": {
   "dashboards": [],
   "environmentMetadata": null,
   "language": "python",
   "notebookMetadata": {
    "pythonIndentUnit": 4
   },
   "notebookName": "Querying Notebook",
   "widgets": {}
  },
  "language_info": {
   "name": "python"
  }
 },
 "nbformat": 4,
 "nbformat_minor": 0
}
